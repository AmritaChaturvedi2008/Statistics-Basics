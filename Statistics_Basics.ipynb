{
  "nbformat": 4,
  "nbformat_minor": 0,
  "metadata": {
    "colab": {
      "provenance": []
    },
    "kernelspec": {
      "name": "python3",
      "display_name": "Python 3"
    },
    "language_info": {
      "name": "python"
    }
  },
  "cells": [
    {
      "cell_type": "markdown",
      "source": [
        "# Assignment question :-"
      ],
      "metadata": {
        "id": "E_0VKylibW11"
      }
    },
    {
      "cell_type": "markdown",
      "source": [
        "\n",
        "\n",
        "1. Explain the different types of data (qualitative and quantitative) and provide examples of each. Discuss nominal, ordinal, interval, and ratio scales.\n",
        "\n",
        "Qualitative data: Descriptive data (e.g., colors, names).\n",
        "\n",
        "Quantitative data: Numerical data (e.g., height, weight).\n",
        "\n",
        "Nominal: Categories without order (e.g., gender).\n",
        "\n",
        "Ordinal: Ordered categories (e.g., rankings).\n",
        "\n",
        "Interval: Equal intervals, no true zero (e.g., temperature).\n",
        "\n",
        "Ratio: Equal intervals, true zero (e.g., age, height).\n",
        "\n"
      ],
      "metadata": {
        "id": "gpzAPNxvbOcG"
      }
    },
    {
      "cell_type": "markdown",
      "source": [
        "2. What are the measures of central tendency, and when should you use each? Discuss the mean, median, and mode with examples.\n",
        "\n",
        "Mean: Average, best for symmetrical data.\n",
        "\n",
        "Median: Middle value, used for skewed data.\n",
        "\n",
        "Mode: Most frequent value, used for categorical data.\n"
      ],
      "metadata": {
        "id": "lLLoAr0BbcEP"
      }
    },
    {
      "cell_type": "markdown",
      "source": [
        "\n",
        "3. Explain the concept of dispersion. How do variance and standard deviation measure the spread of data?\n",
        "\n",
        "Dispersion: Measures how data values spread.\n",
        "\n",
        "Variance: Average squared difference from mean.\n",
        "\n",
        "Standard deviation: Square root of variance, shows typical distance from mean."
      ],
      "metadata": {
        "id": "VIdWdTe2bdHG"
      }
    },
    {
      "cell_type": "markdown",
      "source": [
        "\n",
        "4. What is a box plot, and what can it tell you about the distribution of data?\n",
        "\n",
        "A box plot shows median, quartiles, and outliers. It helps visualize spread and skewness of data.\n"
      ],
      "metadata": {
        "id": "vcGa5emWbirn"
      }
    },
    {
      "cell_type": "markdown",
      "source": [
        "\n",
        "\n",
        "5. Discuss the role of random sampling in making inferences about populations.\n",
        "\n",
        "Random sampling ensures every individual has an equal chance, leading to unbiased, representative data for population inferences."
      ],
      "metadata": {
        "id": "X4iOImsYbpi_"
      }
    },
    {
      "cell_type": "markdown",
      "source": [
        "\n",
        "6. Explain the concept of skewness and its types. How does skewness affect the interpretation of data?\n",
        "\n",
        "Skewness indicates asymmetry.\n",
        "\n",
        "Positive skew: Tail on right.\n",
        "\n",
        "Negative skew: Tail on left.\n",
        "It affects mean and data interpretation."
      ],
      "metadata": {
        "id": "l-K_OWOVburT"
      }
    },
    {
      "cell_type": "markdown",
      "source": [
        "\n",
        "\n",
        "7. What is the interquartile range (IQR), and how is it used to detect outliers?\n",
        "\n",
        "IQR = Q3 - Q1.\n",
        "Values below Q1 - 1.5×IQR or above Q3 + 1.5×IQR are outliers."
      ],
      "metadata": {
        "id": "kFAppDtab0bj"
      }
    },
    {
      "cell_type": "markdown",
      "source": [
        "\n",
        "8. Discuss the conditions under which the binomial distribution is used.\n",
        "\n",
        "Used for fixed number of trials, two outcomes (success/failure), constant probability, and independent trials."
      ],
      "metadata": {
        "id": "JjW47iHDb6tG"
      }
    },
    {
      "cell_type": "markdown",
      "source": [
        "9. Explain the properties of the normal distribution and the empirical rule (68–95–99.7 rule).\n",
        "\n",
        "Normal distribution: Bell-shaped, symmetric.\n",
        "\n",
        "68% data within 1 SD,\n",
        "\n",
        "95% within 2 SD,\n",
        "\n",
        "99.7% within 3 SD from the mean."
      ],
      "metadata": {
        "id": "l5hNqj2cb_0e"
      }
    },
    {
      "cell_type": "markdown",
      "source": [
        "\n",
        "\n",
        "10. Provide a real-life example of a Poisson process and calculate the probability for a specific event.\n",
        "\n",
        "Example: Number of emails per hour.\n",
        "If λ = 4 emails/hour, the probability of getting exactly 2:\n",
        "P(x=2) = (e^−4 × 4²)/2! = 0.1465"
      ],
      "metadata": {
        "id": "C2cZ0290cFgv"
      }
    },
    {
      "cell_type": "markdown",
      "source": [
        "\n",
        "11. Explain what a random variable is and differentiate between discrete and continuous random variables.\n",
        "\n",
        "Random variable: Variable whose value depends on outcome of a random event.\n",
        "\n",
        "Discrete: Countable (e.g., number of heads).\n",
        "\n",
        "Continuous: Measurable (e.g., height)."
      ],
      "metadata": {
        "id": "M6s_sDu0cK8E"
      }
    },
    {
      "cell_type": "markdown",
      "source": [
        "\n",
        "12. Provide an example dataset, calculate both covariance and correlation, and interpret the results.\n",
        "\n",
        "Dataset: X = [1,2,3], Y = [2,4,6]\n",
        "\n",
        "Covariance = 2, Correlation = 1\n",
        "\n",
        "Positive values: Strong positive relationship."
      ],
      "metadata": {
        "id": "KlnIptb1cPth"
      }
    }
  ]
}